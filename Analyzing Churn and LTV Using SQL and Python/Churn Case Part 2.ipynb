{
 "cells": [
  {
   "cell_type": "markdown",
   "id": "a602f59a",
   "metadata": {},
   "source": [
    "# Churn Case Part 2"
   ]
  },
  {
   "cell_type": "raw",
   "id": "18070c35",
   "metadata": {},
   "source": [
    "Lifetime value (LTV) is the total worth to a business of a customer over the while period of their relationship. It's an important metric as it costs less to keep existings customers than to acquire new ones, so the idea of increasing the value of your existig customers is a great way to drive growth."
   ]
  },
  {
   "cell_type": "code",
   "execution_count": 1,
   "id": "5adb694b",
   "metadata": {},
   "outputs": [],
   "source": [
    "import sqlite3\n",
    "import pandas as pd"
   ]
  },
  {
   "cell_type": "code",
   "execution_count": 2,
   "id": "f39ed26c",
   "metadata": {},
   "outputs": [],
   "source": [
    "conn=sqlite3.connect(\"churn.db\")"
   ]
  },
  {
   "cell_type": "code",
   "execution_count": 3,
   "id": "ff651060",
   "metadata": {},
   "outputs": [],
   "source": [
    "df=pd.read_sql(\"Select * from churn_all\",conn)"
   ]
  },
  {
   "cell_type": "code",
   "execution_count": 15,
   "id": "ff781992",
   "metadata": {},
   "outputs": [
    {
     "data": {
      "text/plain": [
       "CustomerID           object\n",
       "Gender               object\n",
       "SeniorCitizen        object\n",
       "Partner              object\n",
       "Dependents           object\n",
       "State                object\n",
       "Latitude            float64\n",
       "Longitude           float64\n",
       "ZipCode               int64\n",
       "PhoneService         object\n",
       "MultipleLines        object\n",
       "InternetService      object\n",
       "OnlineSecurity       object\n",
       "OnlineBackup         object\n",
       "DeviceProtection     object\n",
       "TechSupport          object\n",
       "StreamingTV          object\n",
       "StreamingMovies      object\n",
       "Tenure                int64\n",
       "Contract             object\n",
       "PaymentMethod        object\n",
       "PaperlessBilling     object\n",
       "MonthlyCharges      float64\n",
       "TotalCharges        float64\n",
       "Churn                object\n",
       "dtype: object"
      ]
     },
     "execution_count": 15,
     "metadata": {},
     "output_type": "execute_result"
    }
   ],
   "source": [
    "df.head()\n",
    "df.dtypes"
   ]
  },
  {
   "cell_type": "code",
   "execution_count": 14,
   "id": "9853b592",
   "metadata": {},
   "outputs": [],
   "source": [
    "df[\"TotalCharges\"]=pd.to_numeric(df.TotalCharges,errors='coerce')"
   ]
  },
  {
   "cell_type": "code",
   "execution_count": 16,
   "id": "ed1bb879",
   "metadata": {},
   "outputs": [
    {
     "name": "stdout",
     "output_type": "stream",
     "text": [
      "<class 'pandas.core.frame.DataFrame'>\n",
      "RangeIndex: 7043 entries, 0 to 7042\n",
      "Data columns (total 25 columns):\n",
      " #   Column            Non-Null Count  Dtype  \n",
      "---  ------            --------------  -----  \n",
      " 0   CustomerID        7043 non-null   object \n",
      " 1   Gender            7043 non-null   object \n",
      " 2   SeniorCitizen     7043 non-null   object \n",
      " 3   Partner           7043 non-null   object \n",
      " 4   Dependents        7043 non-null   object \n",
      " 5   State             7043 non-null   object \n",
      " 6   Latitude          7043 non-null   float64\n",
      " 7   Longitude         7043 non-null   float64\n",
      " 8   ZipCode           7043 non-null   int64  \n",
      " 9   PhoneService      7043 non-null   object \n",
      " 10  MultipleLines     7043 non-null   object \n",
      " 11  InternetService   7043 non-null   object \n",
      " 12  OnlineSecurity    7043 non-null   object \n",
      " 13  OnlineBackup      7043 non-null   object \n",
      " 14  DeviceProtection  7043 non-null   object \n",
      " 15  TechSupport       7043 non-null   object \n",
      " 16  StreamingTV       7043 non-null   object \n",
      " 17  StreamingMovies   7043 non-null   object \n",
      " 18  Tenure            7043 non-null   int64  \n",
      " 19  Contract          7043 non-null   object \n",
      " 20  PaymentMethod     7043 non-null   object \n",
      " 21  PaperlessBilling  7043 non-null   object \n",
      " 22  MonthlyCharges    7043 non-null   float64\n",
      " 23  TotalCharges      0 non-null      float64\n",
      " 24  Churn             7043 non-null   object \n",
      "dtypes: float64(4), int64(2), object(19)\n",
      "memory usage: 1.3+ MB\n"
     ]
    }
   ],
   "source": [
    "df.info()"
   ]
  },
  {
   "cell_type": "code",
   "execution_count": 17,
   "id": "b8fbb8c5",
   "metadata": {},
   "outputs": [
    {
     "data": {
      "text/plain": [
       "Index(['CustomerID', 'Gender', 'SeniorCitizen', 'Partner', 'Dependents',\n",
       "       'State', 'Latitude', 'Longitude', 'ZipCode', 'PhoneService',\n",
       "       'MultipleLines', 'InternetService', 'OnlineSecurity', 'OnlineBackup',\n",
       "       'DeviceProtection', 'TechSupport', 'StreamingTV', 'StreamingMovies',\n",
       "       'Tenure', 'Contract', 'PaymentMethod', 'PaperlessBilling',\n",
       "       'MonthlyCharges', 'TotalCharges', 'Churn'],\n",
       "      dtype='object')"
      ]
     },
     "execution_count": 17,
     "metadata": {},
     "output_type": "execute_result"
    }
   ],
   "source": [
    "df.columns"
   ]
  },
  {
   "cell_type": "markdown",
   "id": "0d5f9ce6",
   "metadata": {},
   "source": [
    "## 1. For those customers who unsubscribed the service, what was their average LTV? and how long did they usually stay in the service?"
   ]
  },
  {
   "cell_type": "code",
   "execution_count": 18,
   "id": "fa68c371",
   "metadata": {},
   "outputs": [
    {
     "data": {
      "text/html": [
       "<div>\n",
       "<style scoped>\n",
       "    .dataframe tbody tr th:only-of-type {\n",
       "        vertical-align: middle;\n",
       "    }\n",
       "\n",
       "    .dataframe tbody tr th {\n",
       "        vertical-align: top;\n",
       "    }\n",
       "\n",
       "    .dataframe thead th {\n",
       "        text-align: right;\n",
       "    }\n",
       "</style>\n",
       "<table border=\"1\" class=\"dataframe\">\n",
       "  <thead>\n",
       "    <tr style=\"text-align: right;\">\n",
       "      <th></th>\n",
       "      <th>CustomerID</th>\n",
       "      <th>Gender</th>\n",
       "      <th>SeniorCitizen</th>\n",
       "      <th>Partner</th>\n",
       "      <th>Dependents</th>\n",
       "      <th>State</th>\n",
       "      <th>Latitude</th>\n",
       "      <th>Longitude</th>\n",
       "      <th>ZipCode</th>\n",
       "      <th>PhoneService</th>\n",
       "      <th>...</th>\n",
       "      <th>TechSupport</th>\n",
       "      <th>StreamingTV</th>\n",
       "      <th>StreamingMovies</th>\n",
       "      <th>Tenure</th>\n",
       "      <th>Contract</th>\n",
       "      <th>PaymentMethod</th>\n",
       "      <th>PaperlessBilling</th>\n",
       "      <th>MonthlyCharges</th>\n",
       "      <th>TotalCharges</th>\n",
       "      <th>Churn</th>\n",
       "    </tr>\n",
       "  </thead>\n",
       "  <tbody>\n",
       "    <tr>\n",
       "      <th>0</th>\n",
       "      <td>3668-QPYBK</td>\n",
       "      <td>Male</td>\n",
       "      <td>No</td>\n",
       "      <td>No</td>\n",
       "      <td>No</td>\n",
       "      <td>California</td>\n",
       "      <td>33.964131</td>\n",
       "      <td>-118.272783</td>\n",
       "      <td>90003</td>\n",
       "      <td>Yes</td>\n",
       "      <td>...</td>\n",
       "      <td>No</td>\n",
       "      <td>No</td>\n",
       "      <td>No</td>\n",
       "      <td>2</td>\n",
       "      <td>Month-to-month</td>\n",
       "      <td>Mailed check</td>\n",
       "      <td>Yes</td>\n",
       "      <td>53.85</td>\n",
       "      <td>108.15</td>\n",
       "      <td>Yes</td>\n",
       "    </tr>\n",
       "    <tr>\n",
       "      <th>1</th>\n",
       "      <td>9237-HQITU</td>\n",
       "      <td>Female</td>\n",
       "      <td>No</td>\n",
       "      <td>No</td>\n",
       "      <td>Yes</td>\n",
       "      <td>California</td>\n",
       "      <td>34.059281</td>\n",
       "      <td>-118.307420</td>\n",
       "      <td>90005</td>\n",
       "      <td>Yes</td>\n",
       "      <td>...</td>\n",
       "      <td>No</td>\n",
       "      <td>No</td>\n",
       "      <td>No</td>\n",
       "      <td>2</td>\n",
       "      <td>Month-to-month</td>\n",
       "      <td>Electronic check</td>\n",
       "      <td>Yes</td>\n",
       "      <td>70.70</td>\n",
       "      <td>151.65</td>\n",
       "      <td>Yes</td>\n",
       "    </tr>\n",
       "    <tr>\n",
       "      <th>2</th>\n",
       "      <td>9305-CDSKC</td>\n",
       "      <td>Female</td>\n",
       "      <td>No</td>\n",
       "      <td>No</td>\n",
       "      <td>Yes</td>\n",
       "      <td>California</td>\n",
       "      <td>34.048013</td>\n",
       "      <td>-118.293953</td>\n",
       "      <td>90006</td>\n",
       "      <td>Yes</td>\n",
       "      <td>...</td>\n",
       "      <td>No</td>\n",
       "      <td>Yes</td>\n",
       "      <td>Yes</td>\n",
       "      <td>8</td>\n",
       "      <td>Month-to-month</td>\n",
       "      <td>Electronic check</td>\n",
       "      <td>Yes</td>\n",
       "      <td>99.65</td>\n",
       "      <td>820.50</td>\n",
       "      <td>Yes</td>\n",
       "    </tr>\n",
       "    <tr>\n",
       "      <th>3</th>\n",
       "      <td>7892-POOKP</td>\n",
       "      <td>Female</td>\n",
       "      <td>No</td>\n",
       "      <td>Yes</td>\n",
       "      <td>Yes</td>\n",
       "      <td>California</td>\n",
       "      <td>34.062125</td>\n",
       "      <td>-118.315709</td>\n",
       "      <td>90010</td>\n",
       "      <td>Yes</td>\n",
       "      <td>...</td>\n",
       "      <td>Yes</td>\n",
       "      <td>Yes</td>\n",
       "      <td>Yes</td>\n",
       "      <td>28</td>\n",
       "      <td>Month-to-month</td>\n",
       "      <td>Electronic check</td>\n",
       "      <td>Yes</td>\n",
       "      <td>104.80</td>\n",
       "      <td>3046.05</td>\n",
       "      <td>Yes</td>\n",
       "    </tr>\n",
       "    <tr>\n",
       "      <th>4</th>\n",
       "      <td>0280-XJGEX</td>\n",
       "      <td>Male</td>\n",
       "      <td>No</td>\n",
       "      <td>No</td>\n",
       "      <td>Yes</td>\n",
       "      <td>California</td>\n",
       "      <td>34.039224</td>\n",
       "      <td>-118.266293</td>\n",
       "      <td>90015</td>\n",
       "      <td>Yes</td>\n",
       "      <td>...</td>\n",
       "      <td>No</td>\n",
       "      <td>Yes</td>\n",
       "      <td>Yes</td>\n",
       "      <td>49</td>\n",
       "      <td>Month-to-month</td>\n",
       "      <td>Bank transfer (automatic)</td>\n",
       "      <td>Yes</td>\n",
       "      <td>103.70</td>\n",
       "      <td>5036.30</td>\n",
       "      <td>Yes</td>\n",
       "    </tr>\n",
       "    <tr>\n",
       "      <th>...</th>\n",
       "      <td>...</td>\n",
       "      <td>...</td>\n",
       "      <td>...</td>\n",
       "      <td>...</td>\n",
       "      <td>...</td>\n",
       "      <td>...</td>\n",
       "      <td>...</td>\n",
       "      <td>...</td>\n",
       "      <td>...</td>\n",
       "      <td>...</td>\n",
       "      <td>...</td>\n",
       "      <td>...</td>\n",
       "      <td>...</td>\n",
       "      <td>...</td>\n",
       "      <td>...</td>\n",
       "      <td>...</td>\n",
       "      <td>...</td>\n",
       "      <td>...</td>\n",
       "      <td>...</td>\n",
       "      <td>...</td>\n",
       "      <td>...</td>\n",
       "    </tr>\n",
       "    <tr>\n",
       "      <th>1864</th>\n",
       "      <td>1699-HPSBG</td>\n",
       "      <td>Male</td>\n",
       "      <td>No</td>\n",
       "      <td>No</td>\n",
       "      <td>No</td>\n",
       "      <td>California</td>\n",
       "      <td>33.745746</td>\n",
       "      <td>-116.514215</td>\n",
       "      <td>92264</td>\n",
       "      <td>Yes</td>\n",
       "      <td>...</td>\n",
       "      <td>Yes</td>\n",
       "      <td>Yes</td>\n",
       "      <td>No</td>\n",
       "      <td>12</td>\n",
       "      <td>One year</td>\n",
       "      <td>Electronic check</td>\n",
       "      <td>Yes</td>\n",
       "      <td>59.80</td>\n",
       "      <td>727.80</td>\n",
       "      <td>Yes</td>\n",
       "    </tr>\n",
       "    <tr>\n",
       "      <th>1865</th>\n",
       "      <td>8775-CEBBJ</td>\n",
       "      <td>Female</td>\n",
       "      <td>No</td>\n",
       "      <td>No</td>\n",
       "      <td>No</td>\n",
       "      <td>California</td>\n",
       "      <td>32.790282</td>\n",
       "      <td>-115.689559</td>\n",
       "      <td>92273</td>\n",
       "      <td>Yes</td>\n",
       "      <td>...</td>\n",
       "      <td>No</td>\n",
       "      <td>No</td>\n",
       "      <td>No</td>\n",
       "      <td>9</td>\n",
       "      <td>Month-to-month</td>\n",
       "      <td>Bank transfer (automatic)</td>\n",
       "      <td>Yes</td>\n",
       "      <td>44.20</td>\n",
       "      <td>403.35</td>\n",
       "      <td>Yes</td>\n",
       "    </tr>\n",
       "    <tr>\n",
       "      <th>1866</th>\n",
       "      <td>6894-LFHLY</td>\n",
       "      <td>Male</td>\n",
       "      <td>Yes</td>\n",
       "      <td>No</td>\n",
       "      <td>No</td>\n",
       "      <td>California</td>\n",
       "      <td>34.264124</td>\n",
       "      <td>-114.717964</td>\n",
       "      <td>92280</td>\n",
       "      <td>Yes</td>\n",
       "      <td>...</td>\n",
       "      <td>No</td>\n",
       "      <td>No</td>\n",
       "      <td>No</td>\n",
       "      <td>1</td>\n",
       "      <td>Month-to-month</td>\n",
       "      <td>Electronic check</td>\n",
       "      <td>Yes</td>\n",
       "      <td>75.75</td>\n",
       "      <td>75.75</td>\n",
       "      <td>Yes</td>\n",
       "    </tr>\n",
       "    <tr>\n",
       "      <th>1867</th>\n",
       "      <td>0639-TSIQW</td>\n",
       "      <td>Female</td>\n",
       "      <td>No</td>\n",
       "      <td>No</td>\n",
       "      <td>No</td>\n",
       "      <td>California</td>\n",
       "      <td>33.972293</td>\n",
       "      <td>-116.654195</td>\n",
       "      <td>92282</td>\n",
       "      <td>Yes</td>\n",
       "      <td>...</td>\n",
       "      <td>No</td>\n",
       "      <td>Yes</td>\n",
       "      <td>No</td>\n",
       "      <td>67</td>\n",
       "      <td>Month-to-month</td>\n",
       "      <td>Credit card (automatic)</td>\n",
       "      <td>Yes</td>\n",
       "      <td>102.95</td>\n",
       "      <td>6886.25</td>\n",
       "      <td>Yes</td>\n",
       "    </tr>\n",
       "    <tr>\n",
       "      <th>1868</th>\n",
       "      <td>8361-LTMKD</td>\n",
       "      <td>Male</td>\n",
       "      <td>Yes</td>\n",
       "      <td>Yes</td>\n",
       "      <td>No</td>\n",
       "      <td>California</td>\n",
       "      <td>34.550820</td>\n",
       "      <td>-117.122396</td>\n",
       "      <td>92307</td>\n",
       "      <td>Yes</td>\n",
       "      <td>...</td>\n",
       "      <td>No</td>\n",
       "      <td>No</td>\n",
       "      <td>No</td>\n",
       "      <td>4</td>\n",
       "      <td>Month-to-month</td>\n",
       "      <td>Mailed check</td>\n",
       "      <td>Yes</td>\n",
       "      <td>74.40</td>\n",
       "      <td>306.60</td>\n",
       "      <td>Yes</td>\n",
       "    </tr>\n",
       "  </tbody>\n",
       "</table>\n",
       "<p>1869 rows × 25 columns</p>\n",
       "</div>"
      ],
      "text/plain": [
       "      CustomerID  Gender SeniorCitizen Partner Dependents       State  \\\n",
       "0     3668-QPYBK    Male            No      No         No  California   \n",
       "1     9237-HQITU  Female            No      No        Yes  California   \n",
       "2     9305-CDSKC  Female            No      No        Yes  California   \n",
       "3     7892-POOKP  Female            No     Yes        Yes  California   \n",
       "4     0280-XJGEX    Male            No      No        Yes  California   \n",
       "...          ...     ...           ...     ...        ...         ...   \n",
       "1864  1699-HPSBG    Male            No      No         No  California   \n",
       "1865  8775-CEBBJ  Female            No      No         No  California   \n",
       "1866  6894-LFHLY    Male           Yes      No         No  California   \n",
       "1867  0639-TSIQW  Female            No      No         No  California   \n",
       "1868  8361-LTMKD    Male           Yes     Yes         No  California   \n",
       "\n",
       "       Latitude   Longitude  ZipCode PhoneService  ... TechSupport  \\\n",
       "0     33.964131 -118.272783    90003          Yes  ...          No   \n",
       "1     34.059281 -118.307420    90005          Yes  ...          No   \n",
       "2     34.048013 -118.293953    90006          Yes  ...          No   \n",
       "3     34.062125 -118.315709    90010          Yes  ...         Yes   \n",
       "4     34.039224 -118.266293    90015          Yes  ...          No   \n",
       "...         ...         ...      ...          ...  ...         ...   \n",
       "1864  33.745746 -116.514215    92264          Yes  ...         Yes   \n",
       "1865  32.790282 -115.689559    92273          Yes  ...          No   \n",
       "1866  34.264124 -114.717964    92280          Yes  ...          No   \n",
       "1867  33.972293 -116.654195    92282          Yes  ...          No   \n",
       "1868  34.550820 -117.122396    92307          Yes  ...          No   \n",
       "\n",
       "     StreamingTV StreamingMovies Tenure        Contract  \\\n",
       "0             No              No      2  Month-to-month   \n",
       "1             No              No      2  Month-to-month   \n",
       "2            Yes             Yes      8  Month-to-month   \n",
       "3            Yes             Yes     28  Month-to-month   \n",
       "4            Yes             Yes     49  Month-to-month   \n",
       "...          ...             ...    ...             ...   \n",
       "1864         Yes              No     12        One year   \n",
       "1865          No              No      9  Month-to-month   \n",
       "1866          No              No      1  Month-to-month   \n",
       "1867         Yes              No     67  Month-to-month   \n",
       "1868          No              No      4  Month-to-month   \n",
       "\n",
       "                  PaymentMethod PaperlessBilling MonthlyCharges  TotalCharges  \\\n",
       "0                  Mailed check              Yes          53.85        108.15   \n",
       "1              Electronic check              Yes          70.70        151.65   \n",
       "2              Electronic check              Yes          99.65        820.50   \n",
       "3              Electronic check              Yes         104.80       3046.05   \n",
       "4     Bank transfer (automatic)              Yes         103.70       5036.30   \n",
       "...                         ...              ...            ...           ...   \n",
       "1864           Electronic check              Yes          59.80        727.80   \n",
       "1865  Bank transfer (automatic)              Yes          44.20        403.35   \n",
       "1866           Electronic check              Yes          75.75         75.75   \n",
       "1867    Credit card (automatic)              Yes         102.95       6886.25   \n",
       "1868               Mailed check              Yes          74.40        306.60   \n",
       "\n",
       "     Churn  \n",
       "0      Yes  \n",
       "1      Yes  \n",
       "2      Yes  \n",
       "3      Yes  \n",
       "4      Yes  \n",
       "...    ...  \n",
       "1864   Yes  \n",
       "1865   Yes  \n",
       "1866   Yes  \n",
       "1867   Yes  \n",
       "1868   Yes  \n",
       "\n",
       "[1869 rows x 25 columns]"
      ]
     },
     "execution_count": 18,
     "metadata": {},
     "output_type": "execute_result"
    }
   ],
   "source": [
    "## Extract those who unsubscribed the serviced (Churn = Yes)\n",
    "churn_df=pd.read_sql(\"Select * from churn_all where Churn='Yes'\",conn)\n",
    "churn_df"
   ]
  },
  {
   "cell_type": "code",
   "execution_count": 19,
   "id": "16775a9d",
   "metadata": {},
   "outputs": [
    {
     "data": {
      "text/plain": [
       "count    1869.000000\n",
       "mean     1531.796094\n",
       "std      1890.822994\n",
       "min        18.850000\n",
       "25%       134.500000\n",
       "50%       703.550000\n",
       "75%      2331.300000\n",
       "max      8684.800000\n",
       "Name: TotalCharges, dtype: float64"
      ]
     },
     "execution_count": 19,
     "metadata": {},
     "output_type": "execute_result"
    }
   ],
   "source": [
    "# Examine the distribution of TotalCharges\n",
    "churn_df[\"TotalCharges\"].describe()"
   ]
  },
  {
   "cell_type": "code",
   "execution_count": 23,
   "id": "c90fe9e1",
   "metadata": {},
   "outputs": [
    {
     "data": {
      "text/plain": [
       "2840.4100000000003"
      ]
     },
     "execution_count": 23,
     "metadata": {},
     "output_type": "execute_result"
    }
   ],
   "source": [
    "# Find the 80th percentile of the data in TotalCharges\n",
    "churn_df.TotalCharges.quantile(0.8)"
   ]
  },
  {
   "cell_type": "code",
   "execution_count": 25,
   "id": "1e6393ae",
   "metadata": {},
   "outputs": [
    {
     "data": {
      "text/plain": [
       "2840.4100000000003"
      ]
     },
     "execution_count": 25,
     "metadata": {},
     "output_type": "execute_result"
    }
   ],
   "source": [
    "churn_df[\"TotalCharges\"].quantile(0.8)"
   ]
  },
  {
   "cell_type": "code",
   "execution_count": 27,
   "id": "64f12f06",
   "metadata": {},
   "outputs": [
    {
     "data": {
      "text/html": [
       "<div>\n",
       "<style scoped>\n",
       "    .dataframe tbody tr th:only-of-type {\n",
       "        vertical-align: middle;\n",
       "    }\n",
       "\n",
       "    .dataframe tbody tr th {\n",
       "        vertical-align: top;\n",
       "    }\n",
       "\n",
       "    .dataframe thead th {\n",
       "        text-align: right;\n",
       "    }\n",
       "</style>\n",
       "<table border=\"1\" class=\"dataframe\">\n",
       "  <thead>\n",
       "    <tr style=\"text-align: right;\">\n",
       "      <th></th>\n",
       "      <th>CustomerID</th>\n",
       "      <th>Gender</th>\n",
       "      <th>SeniorCitizen</th>\n",
       "      <th>Partner</th>\n",
       "      <th>Dependents</th>\n",
       "      <th>State</th>\n",
       "      <th>Latitude</th>\n",
       "      <th>Longitude</th>\n",
       "      <th>ZipCode</th>\n",
       "      <th>PhoneService</th>\n",
       "      <th>...</th>\n",
       "      <th>TechSupport</th>\n",
       "      <th>StreamingTV</th>\n",
       "      <th>StreamingMovies</th>\n",
       "      <th>Tenure</th>\n",
       "      <th>Contract</th>\n",
       "      <th>PaymentMethod</th>\n",
       "      <th>PaperlessBilling</th>\n",
       "      <th>MonthlyCharges</th>\n",
       "      <th>TotalCharges</th>\n",
       "      <th>Churn</th>\n",
       "    </tr>\n",
       "  </thead>\n",
       "  <tbody>\n",
       "    <tr>\n",
       "      <th>0</th>\n",
       "      <td>3668-QPYBK</td>\n",
       "      <td>Male</td>\n",
       "      <td>No</td>\n",
       "      <td>No</td>\n",
       "      <td>No</td>\n",
       "      <td>California</td>\n",
       "      <td>33.964131</td>\n",
       "      <td>-118.272783</td>\n",
       "      <td>90003</td>\n",
       "      <td>Yes</td>\n",
       "      <td>...</td>\n",
       "      <td>No</td>\n",
       "      <td>No</td>\n",
       "      <td>No</td>\n",
       "      <td>2</td>\n",
       "      <td>Month-to-month</td>\n",
       "      <td>Mailed check</td>\n",
       "      <td>Yes</td>\n",
       "      <td>53.85</td>\n",
       "      <td>108.15</td>\n",
       "      <td>Yes</td>\n",
       "    </tr>\n",
       "    <tr>\n",
       "      <th>1</th>\n",
       "      <td>9237-HQITU</td>\n",
       "      <td>Female</td>\n",
       "      <td>No</td>\n",
       "      <td>No</td>\n",
       "      <td>Yes</td>\n",
       "      <td>California</td>\n",
       "      <td>34.059281</td>\n",
       "      <td>-118.307420</td>\n",
       "      <td>90005</td>\n",
       "      <td>Yes</td>\n",
       "      <td>...</td>\n",
       "      <td>No</td>\n",
       "      <td>No</td>\n",
       "      <td>No</td>\n",
       "      <td>2</td>\n",
       "      <td>Month-to-month</td>\n",
       "      <td>Electronic check</td>\n",
       "      <td>Yes</td>\n",
       "      <td>70.70</td>\n",
       "      <td>151.65</td>\n",
       "      <td>Yes</td>\n",
       "    </tr>\n",
       "    <tr>\n",
       "      <th>2</th>\n",
       "      <td>9305-CDSKC</td>\n",
       "      <td>Female</td>\n",
       "      <td>No</td>\n",
       "      <td>No</td>\n",
       "      <td>Yes</td>\n",
       "      <td>California</td>\n",
       "      <td>34.048013</td>\n",
       "      <td>-118.293953</td>\n",
       "      <td>90006</td>\n",
       "      <td>Yes</td>\n",
       "      <td>...</td>\n",
       "      <td>No</td>\n",
       "      <td>Yes</td>\n",
       "      <td>Yes</td>\n",
       "      <td>8</td>\n",
       "      <td>Month-to-month</td>\n",
       "      <td>Electronic check</td>\n",
       "      <td>Yes</td>\n",
       "      <td>99.65</td>\n",
       "      <td>820.50</td>\n",
       "      <td>Yes</td>\n",
       "    </tr>\n",
       "    <tr>\n",
       "      <th>3</th>\n",
       "      <td>4190-MFLUW</td>\n",
       "      <td>Female</td>\n",
       "      <td>No</td>\n",
       "      <td>Yes</td>\n",
       "      <td>No</td>\n",
       "      <td>California</td>\n",
       "      <td>34.066367</td>\n",
       "      <td>-118.309868</td>\n",
       "      <td>90020</td>\n",
       "      <td>Yes</td>\n",
       "      <td>...</td>\n",
       "      <td>Yes</td>\n",
       "      <td>No</td>\n",
       "      <td>No</td>\n",
       "      <td>10</td>\n",
       "      <td>Month-to-month</td>\n",
       "      <td>Credit card (automatic)</td>\n",
       "      <td>No</td>\n",
       "      <td>55.20</td>\n",
       "      <td>528.35</td>\n",
       "      <td>Yes</td>\n",
       "    </tr>\n",
       "    <tr>\n",
       "      <th>4</th>\n",
       "      <td>8779-QRDMV</td>\n",
       "      <td>Male</td>\n",
       "      <td>Yes</td>\n",
       "      <td>No</td>\n",
       "      <td>No</td>\n",
       "      <td>California</td>\n",
       "      <td>34.023810</td>\n",
       "      <td>-118.156582</td>\n",
       "      <td>90022</td>\n",
       "      <td>No</td>\n",
       "      <td>...</td>\n",
       "      <td>No</td>\n",
       "      <td>No</td>\n",
       "      <td>Yes</td>\n",
       "      <td>1</td>\n",
       "      <td>Month-to-month</td>\n",
       "      <td>Electronic check</td>\n",
       "      <td>Yes</td>\n",
       "      <td>39.65</td>\n",
       "      <td>39.65</td>\n",
       "      <td>Yes</td>\n",
       "    </tr>\n",
       "    <tr>\n",
       "      <th>...</th>\n",
       "      <td>...</td>\n",
       "      <td>...</td>\n",
       "      <td>...</td>\n",
       "      <td>...</td>\n",
       "      <td>...</td>\n",
       "      <td>...</td>\n",
       "      <td>...</td>\n",
       "      <td>...</td>\n",
       "      <td>...</td>\n",
       "      <td>...</td>\n",
       "      <td>...</td>\n",
       "      <td>...</td>\n",
       "      <td>...</td>\n",
       "      <td>...</td>\n",
       "      <td>...</td>\n",
       "      <td>...</td>\n",
       "      <td>...</td>\n",
       "      <td>...</td>\n",
       "      <td>...</td>\n",
       "      <td>...</td>\n",
       "      <td>...</td>\n",
       "    </tr>\n",
       "    <tr>\n",
       "      <th>4734</th>\n",
       "      <td>8456-QDAVC</td>\n",
       "      <td>Male</td>\n",
       "      <td>No</td>\n",
       "      <td>No</td>\n",
       "      <td>No</td>\n",
       "      <td>California</td>\n",
       "      <td>32.852947</td>\n",
       "      <td>-114.850784</td>\n",
       "      <td>92283</td>\n",
       "      <td>Yes</td>\n",
       "      <td>...</td>\n",
       "      <td>No</td>\n",
       "      <td>Yes</td>\n",
       "      <td>No</td>\n",
       "      <td>19</td>\n",
       "      <td>Month-to-month</td>\n",
       "      <td>Bank transfer (automatic)</td>\n",
       "      <td>Yes</td>\n",
       "      <td>78.70</td>\n",
       "      <td>1495.10</td>\n",
       "      <td>No</td>\n",
       "    </tr>\n",
       "    <tr>\n",
       "      <th>4735</th>\n",
       "      <td>7750-EYXWZ</td>\n",
       "      <td>Female</td>\n",
       "      <td>No</td>\n",
       "      <td>No</td>\n",
       "      <td>No</td>\n",
       "      <td>California</td>\n",
       "      <td>34.159534</td>\n",
       "      <td>-116.425984</td>\n",
       "      <td>92284</td>\n",
       "      <td>No</td>\n",
       "      <td>...</td>\n",
       "      <td>Yes</td>\n",
       "      <td>Yes</td>\n",
       "      <td>Yes</td>\n",
       "      <td>12</td>\n",
       "      <td>One year</td>\n",
       "      <td>Electronic check</td>\n",
       "      <td>No</td>\n",
       "      <td>60.65</td>\n",
       "      <td>743.30</td>\n",
       "      <td>No</td>\n",
       "    </tr>\n",
       "    <tr>\n",
       "      <th>4736</th>\n",
       "      <td>2569-WGERO</td>\n",
       "      <td>Female</td>\n",
       "      <td>No</td>\n",
       "      <td>No</td>\n",
       "      <td>No</td>\n",
       "      <td>California</td>\n",
       "      <td>34.341737</td>\n",
       "      <td>-116.539416</td>\n",
       "      <td>92285</td>\n",
       "      <td>Yes</td>\n",
       "      <td>...</td>\n",
       "      <td>No internet service</td>\n",
       "      <td>No internet service</td>\n",
       "      <td>No internet service</td>\n",
       "      <td>72</td>\n",
       "      <td>Two year</td>\n",
       "      <td>Bank transfer (automatic)</td>\n",
       "      <td>Yes</td>\n",
       "      <td>21.15</td>\n",
       "      <td>1419.40</td>\n",
       "      <td>No</td>\n",
       "    </tr>\n",
       "    <tr>\n",
       "      <th>4737</th>\n",
       "      <td>6840-RESVB</td>\n",
       "      <td>Male</td>\n",
       "      <td>No</td>\n",
       "      <td>Yes</td>\n",
       "      <td>Yes</td>\n",
       "      <td>California</td>\n",
       "      <td>34.667815</td>\n",
       "      <td>-117.536183</td>\n",
       "      <td>92301</td>\n",
       "      <td>Yes</td>\n",
       "      <td>...</td>\n",
       "      <td>Yes</td>\n",
       "      <td>Yes</td>\n",
       "      <td>Yes</td>\n",
       "      <td>24</td>\n",
       "      <td>One year</td>\n",
       "      <td>Mailed check</td>\n",
       "      <td>Yes</td>\n",
       "      <td>84.80</td>\n",
       "      <td>1990.50</td>\n",
       "      <td>No</td>\n",
       "    </tr>\n",
       "    <tr>\n",
       "      <th>4738</th>\n",
       "      <td>4801-JZAZL</td>\n",
       "      <td>Female</td>\n",
       "      <td>No</td>\n",
       "      <td>Yes</td>\n",
       "      <td>Yes</td>\n",
       "      <td>California</td>\n",
       "      <td>34.167800</td>\n",
       "      <td>-116.864330</td>\n",
       "      <td>92305</td>\n",
       "      <td>No</td>\n",
       "      <td>...</td>\n",
       "      <td>No</td>\n",
       "      <td>No</td>\n",
       "      <td>No</td>\n",
       "      <td>11</td>\n",
       "      <td>Month-to-month</td>\n",
       "      <td>Electronic check</td>\n",
       "      <td>Yes</td>\n",
       "      <td>29.60</td>\n",
       "      <td>346.45</td>\n",
       "      <td>No</td>\n",
       "    </tr>\n",
       "  </tbody>\n",
       "</table>\n",
       "<p>4739 rows × 25 columns</p>\n",
       "</div>"
      ],
      "text/plain": [
       "      CustomerID  Gender SeniorCitizen Partner Dependents       State  \\\n",
       "0     3668-QPYBK    Male            No      No         No  California   \n",
       "1     9237-HQITU  Female            No      No        Yes  California   \n",
       "2     9305-CDSKC  Female            No      No        Yes  California   \n",
       "3     4190-MFLUW  Female            No     Yes         No  California   \n",
       "4     8779-QRDMV    Male           Yes      No         No  California   \n",
       "...          ...     ...           ...     ...        ...         ...   \n",
       "4734  8456-QDAVC    Male            No      No         No  California   \n",
       "4735  7750-EYXWZ  Female            No      No         No  California   \n",
       "4736  2569-WGERO  Female            No      No         No  California   \n",
       "4737  6840-RESVB    Male            No     Yes        Yes  California   \n",
       "4738  4801-JZAZL  Female            No     Yes        Yes  California   \n",
       "\n",
       "       Latitude   Longitude  ZipCode PhoneService  ...          TechSupport  \\\n",
       "0     33.964131 -118.272783    90003          Yes  ...                   No   \n",
       "1     34.059281 -118.307420    90005          Yes  ...                   No   \n",
       "2     34.048013 -118.293953    90006          Yes  ...                   No   \n",
       "3     34.066367 -118.309868    90020          Yes  ...                  Yes   \n",
       "4     34.023810 -118.156582    90022           No  ...                   No   \n",
       "...         ...         ...      ...          ...  ...                  ...   \n",
       "4734  32.852947 -114.850784    92283          Yes  ...                   No   \n",
       "4735  34.159534 -116.425984    92284           No  ...                  Yes   \n",
       "4736  34.341737 -116.539416    92285          Yes  ...  No internet service   \n",
       "4737  34.667815 -117.536183    92301          Yes  ...                  Yes   \n",
       "4738  34.167800 -116.864330    92305           No  ...                   No   \n",
       "\n",
       "              StreamingTV      StreamingMovies Tenure        Contract  \\\n",
       "0                      No                   No      2  Month-to-month   \n",
       "1                      No                   No      2  Month-to-month   \n",
       "2                     Yes                  Yes      8  Month-to-month   \n",
       "3                      No                   No     10  Month-to-month   \n",
       "4                      No                  Yes      1  Month-to-month   \n",
       "...                   ...                  ...    ...             ...   \n",
       "4734                  Yes                   No     19  Month-to-month   \n",
       "4735                  Yes                  Yes     12        One year   \n",
       "4736  No internet service  No internet service     72        Two year   \n",
       "4737                  Yes                  Yes     24        One year   \n",
       "4738                   No                   No     11  Month-to-month   \n",
       "\n",
       "                  PaymentMethod PaperlessBilling MonthlyCharges  TotalCharges  \\\n",
       "0                  Mailed check              Yes          53.85        108.15   \n",
       "1              Electronic check              Yes          70.70        151.65   \n",
       "2              Electronic check              Yes          99.65        820.50   \n",
       "3       Credit card (automatic)               No          55.20        528.35   \n",
       "4              Electronic check              Yes          39.65         39.65   \n",
       "...                         ...              ...            ...           ...   \n",
       "4734  Bank transfer (automatic)              Yes          78.70       1495.10   \n",
       "4735           Electronic check               No          60.65        743.30   \n",
       "4736  Bank transfer (automatic)              Yes          21.15       1419.40   \n",
       "4737               Mailed check              Yes          84.80       1990.50   \n",
       "4738           Electronic check              Yes          29.60        346.45   \n",
       "\n",
       "     Churn  \n",
       "0      Yes  \n",
       "1      Yes  \n",
       "2      Yes  \n",
       "3      Yes  \n",
       "4      Yes  \n",
       "...    ...  \n",
       "4734    No  \n",
       "4735    No  \n",
       "4736    No  \n",
       "4737    No  \n",
       "4738    No  \n",
       "\n",
       "[4739 rows x 25 columns]"
      ]
     },
     "execution_count": 27,
     "metadata": {},
     "output_type": "execute_result"
    }
   ],
   "source": [
    "pd.read_sql(\"Select * from churn_all where TotalCharges <= 2840.4100000000003\",conn)"
   ]
  },
  {
   "cell_type": "code",
   "execution_count": 33,
   "id": "32f91d80",
   "metadata": {
    "scrolled": false
   },
   "outputs": [
    {
     "data": {
      "text/html": [
       "<div>\n",
       "<style scoped>\n",
       "    .dataframe tbody tr th:only-of-type {\n",
       "        vertical-align: middle;\n",
       "    }\n",
       "\n",
       "    .dataframe tbody tr th {\n",
       "        vertical-align: top;\n",
       "    }\n",
       "\n",
       "    .dataframe thead th {\n",
       "        text-align: right;\n",
       "    }\n",
       "</style>\n",
       "<table border=\"1\" class=\"dataframe\">\n",
       "  <thead>\n",
       "    <tr style=\"text-align: right;\">\n",
       "      <th></th>\n",
       "      <th>CustomerID</th>\n",
       "      <th>Gender</th>\n",
       "      <th>SeniorCitizen</th>\n",
       "      <th>Partner</th>\n",
       "      <th>Dependents</th>\n",
       "      <th>State</th>\n",
       "      <th>Latitude</th>\n",
       "      <th>Longitude</th>\n",
       "      <th>ZipCode</th>\n",
       "      <th>PhoneService</th>\n",
       "      <th>...</th>\n",
       "      <th>TechSupport</th>\n",
       "      <th>StreamingTV</th>\n",
       "      <th>StreamingMovies</th>\n",
       "      <th>Tenure</th>\n",
       "      <th>Contract</th>\n",
       "      <th>PaymentMethod</th>\n",
       "      <th>PaperlessBilling</th>\n",
       "      <th>MonthlyCharges</th>\n",
       "      <th>TotalCharges</th>\n",
       "      <th>Churn</th>\n",
       "    </tr>\n",
       "  </thead>\n",
       "  <tbody>\n",
       "    <tr>\n",
       "      <th>0</th>\n",
       "      <td>3668-QPYBK</td>\n",
       "      <td>Male</td>\n",
       "      <td>No</td>\n",
       "      <td>No</td>\n",
       "      <td>No</td>\n",
       "      <td>California</td>\n",
       "      <td>33.964131</td>\n",
       "      <td>-118.272783</td>\n",
       "      <td>90003</td>\n",
       "      <td>Yes</td>\n",
       "      <td>...</td>\n",
       "      <td>No</td>\n",
       "      <td>No</td>\n",
       "      <td>No</td>\n",
       "      <td>2</td>\n",
       "      <td>Month-to-month</td>\n",
       "      <td>Mailed check</td>\n",
       "      <td>Yes</td>\n",
       "      <td>53.85</td>\n",
       "      <td>108.15</td>\n",
       "      <td>Yes</td>\n",
       "    </tr>\n",
       "    <tr>\n",
       "      <th>1</th>\n",
       "      <td>9237-HQITU</td>\n",
       "      <td>Female</td>\n",
       "      <td>No</td>\n",
       "      <td>No</td>\n",
       "      <td>Yes</td>\n",
       "      <td>California</td>\n",
       "      <td>34.059281</td>\n",
       "      <td>-118.307420</td>\n",
       "      <td>90005</td>\n",
       "      <td>Yes</td>\n",
       "      <td>...</td>\n",
       "      <td>No</td>\n",
       "      <td>No</td>\n",
       "      <td>No</td>\n",
       "      <td>2</td>\n",
       "      <td>Month-to-month</td>\n",
       "      <td>Electronic check</td>\n",
       "      <td>Yes</td>\n",
       "      <td>70.70</td>\n",
       "      <td>151.65</td>\n",
       "      <td>Yes</td>\n",
       "    </tr>\n",
       "    <tr>\n",
       "      <th>2</th>\n",
       "      <td>9305-CDSKC</td>\n",
       "      <td>Female</td>\n",
       "      <td>No</td>\n",
       "      <td>No</td>\n",
       "      <td>Yes</td>\n",
       "      <td>California</td>\n",
       "      <td>34.048013</td>\n",
       "      <td>-118.293953</td>\n",
       "      <td>90006</td>\n",
       "      <td>Yes</td>\n",
       "      <td>...</td>\n",
       "      <td>No</td>\n",
       "      <td>Yes</td>\n",
       "      <td>Yes</td>\n",
       "      <td>8</td>\n",
       "      <td>Month-to-month</td>\n",
       "      <td>Electronic check</td>\n",
       "      <td>Yes</td>\n",
       "      <td>99.65</td>\n",
       "      <td>820.50</td>\n",
       "      <td>Yes</td>\n",
       "    </tr>\n",
       "    <tr>\n",
       "      <th>5</th>\n",
       "      <td>4190-MFLUW</td>\n",
       "      <td>Female</td>\n",
       "      <td>No</td>\n",
       "      <td>Yes</td>\n",
       "      <td>No</td>\n",
       "      <td>California</td>\n",
       "      <td>34.066367</td>\n",
       "      <td>-118.309868</td>\n",
       "      <td>90020</td>\n",
       "      <td>Yes</td>\n",
       "      <td>...</td>\n",
       "      <td>Yes</td>\n",
       "      <td>No</td>\n",
       "      <td>No</td>\n",
       "      <td>10</td>\n",
       "      <td>Month-to-month</td>\n",
       "      <td>Credit card (automatic)</td>\n",
       "      <td>No</td>\n",
       "      <td>55.20</td>\n",
       "      <td>528.35</td>\n",
       "      <td>Yes</td>\n",
       "    </tr>\n",
       "    <tr>\n",
       "      <th>6</th>\n",
       "      <td>8779-QRDMV</td>\n",
       "      <td>Male</td>\n",
       "      <td>Yes</td>\n",
       "      <td>No</td>\n",
       "      <td>No</td>\n",
       "      <td>California</td>\n",
       "      <td>34.023810</td>\n",
       "      <td>-118.156582</td>\n",
       "      <td>90022</td>\n",
       "      <td>No</td>\n",
       "      <td>...</td>\n",
       "      <td>No</td>\n",
       "      <td>No</td>\n",
       "      <td>Yes</td>\n",
       "      <td>1</td>\n",
       "      <td>Month-to-month</td>\n",
       "      <td>Electronic check</td>\n",
       "      <td>Yes</td>\n",
       "      <td>39.65</td>\n",
       "      <td>39.65</td>\n",
       "      <td>Yes</td>\n",
       "    </tr>\n",
       "    <tr>\n",
       "      <th>...</th>\n",
       "      <td>...</td>\n",
       "      <td>...</td>\n",
       "      <td>...</td>\n",
       "      <td>...</td>\n",
       "      <td>...</td>\n",
       "      <td>...</td>\n",
       "      <td>...</td>\n",
       "      <td>...</td>\n",
       "      <td>...</td>\n",
       "      <td>...</td>\n",
       "      <td>...</td>\n",
       "      <td>...</td>\n",
       "      <td>...</td>\n",
       "      <td>...</td>\n",
       "      <td>...</td>\n",
       "      <td>...</td>\n",
       "      <td>...</td>\n",
       "      <td>...</td>\n",
       "      <td>...</td>\n",
       "      <td>...</td>\n",
       "      <td>...</td>\n",
       "    </tr>\n",
       "    <tr>\n",
       "      <th>1863</th>\n",
       "      <td>1122-JWTJW</td>\n",
       "      <td>Male</td>\n",
       "      <td>No</td>\n",
       "      <td>Yes</td>\n",
       "      <td>Yes</td>\n",
       "      <td>California</td>\n",
       "      <td>32.698964</td>\n",
       "      <td>-115.886656</td>\n",
       "      <td>92259</td>\n",
       "      <td>Yes</td>\n",
       "      <td>...</td>\n",
       "      <td>No</td>\n",
       "      <td>No</td>\n",
       "      <td>No</td>\n",
       "      <td>1</td>\n",
       "      <td>Month-to-month</td>\n",
       "      <td>Mailed check</td>\n",
       "      <td>Yes</td>\n",
       "      <td>70.65</td>\n",
       "      <td>70.65</td>\n",
       "      <td>Yes</td>\n",
       "    </tr>\n",
       "    <tr>\n",
       "      <th>1864</th>\n",
       "      <td>1699-HPSBG</td>\n",
       "      <td>Male</td>\n",
       "      <td>No</td>\n",
       "      <td>No</td>\n",
       "      <td>No</td>\n",
       "      <td>California</td>\n",
       "      <td>33.745746</td>\n",
       "      <td>-116.514215</td>\n",
       "      <td>92264</td>\n",
       "      <td>Yes</td>\n",
       "      <td>...</td>\n",
       "      <td>Yes</td>\n",
       "      <td>Yes</td>\n",
       "      <td>No</td>\n",
       "      <td>12</td>\n",
       "      <td>One year</td>\n",
       "      <td>Electronic check</td>\n",
       "      <td>Yes</td>\n",
       "      <td>59.80</td>\n",
       "      <td>727.80</td>\n",
       "      <td>Yes</td>\n",
       "    </tr>\n",
       "    <tr>\n",
       "      <th>1865</th>\n",
       "      <td>8775-CEBBJ</td>\n",
       "      <td>Female</td>\n",
       "      <td>No</td>\n",
       "      <td>No</td>\n",
       "      <td>No</td>\n",
       "      <td>California</td>\n",
       "      <td>32.790282</td>\n",
       "      <td>-115.689559</td>\n",
       "      <td>92273</td>\n",
       "      <td>Yes</td>\n",
       "      <td>...</td>\n",
       "      <td>No</td>\n",
       "      <td>No</td>\n",
       "      <td>No</td>\n",
       "      <td>9</td>\n",
       "      <td>Month-to-month</td>\n",
       "      <td>Bank transfer (automatic)</td>\n",
       "      <td>Yes</td>\n",
       "      <td>44.20</td>\n",
       "      <td>403.35</td>\n",
       "      <td>Yes</td>\n",
       "    </tr>\n",
       "    <tr>\n",
       "      <th>1866</th>\n",
       "      <td>6894-LFHLY</td>\n",
       "      <td>Male</td>\n",
       "      <td>Yes</td>\n",
       "      <td>No</td>\n",
       "      <td>No</td>\n",
       "      <td>California</td>\n",
       "      <td>34.264124</td>\n",
       "      <td>-114.717964</td>\n",
       "      <td>92280</td>\n",
       "      <td>Yes</td>\n",
       "      <td>...</td>\n",
       "      <td>No</td>\n",
       "      <td>No</td>\n",
       "      <td>No</td>\n",
       "      <td>1</td>\n",
       "      <td>Month-to-month</td>\n",
       "      <td>Electronic check</td>\n",
       "      <td>Yes</td>\n",
       "      <td>75.75</td>\n",
       "      <td>75.75</td>\n",
       "      <td>Yes</td>\n",
       "    </tr>\n",
       "    <tr>\n",
       "      <th>1868</th>\n",
       "      <td>8361-LTMKD</td>\n",
       "      <td>Male</td>\n",
       "      <td>Yes</td>\n",
       "      <td>Yes</td>\n",
       "      <td>No</td>\n",
       "      <td>California</td>\n",
       "      <td>34.550820</td>\n",
       "      <td>-117.122396</td>\n",
       "      <td>92307</td>\n",
       "      <td>Yes</td>\n",
       "      <td>...</td>\n",
       "      <td>No</td>\n",
       "      <td>No</td>\n",
       "      <td>No</td>\n",
       "      <td>4</td>\n",
       "      <td>Month-to-month</td>\n",
       "      <td>Mailed check</td>\n",
       "      <td>Yes</td>\n",
       "      <td>74.40</td>\n",
       "      <td>306.60</td>\n",
       "      <td>Yes</td>\n",
       "    </tr>\n",
       "  </tbody>\n",
       "</table>\n",
       "<p>1495 rows × 25 columns</p>\n",
       "</div>"
      ],
      "text/plain": [
       "      CustomerID  Gender SeniorCitizen Partner Dependents       State  \\\n",
       "0     3668-QPYBK    Male            No      No         No  California   \n",
       "1     9237-HQITU  Female            No      No        Yes  California   \n",
       "2     9305-CDSKC  Female            No      No        Yes  California   \n",
       "5     4190-MFLUW  Female            No     Yes         No  California   \n",
       "6     8779-QRDMV    Male           Yes      No         No  California   \n",
       "...          ...     ...           ...     ...        ...         ...   \n",
       "1863  1122-JWTJW    Male            No     Yes        Yes  California   \n",
       "1864  1699-HPSBG    Male            No      No         No  California   \n",
       "1865  8775-CEBBJ  Female            No      No         No  California   \n",
       "1866  6894-LFHLY    Male           Yes      No         No  California   \n",
       "1868  8361-LTMKD    Male           Yes     Yes         No  California   \n",
       "\n",
       "       Latitude   Longitude  ZipCode PhoneService  ... TechSupport  \\\n",
       "0     33.964131 -118.272783    90003          Yes  ...          No   \n",
       "1     34.059281 -118.307420    90005          Yes  ...          No   \n",
       "2     34.048013 -118.293953    90006          Yes  ...          No   \n",
       "5     34.066367 -118.309868    90020          Yes  ...         Yes   \n",
       "6     34.023810 -118.156582    90022           No  ...          No   \n",
       "...         ...         ...      ...          ...  ...         ...   \n",
       "1863  32.698964 -115.886656    92259          Yes  ...          No   \n",
       "1864  33.745746 -116.514215    92264          Yes  ...         Yes   \n",
       "1865  32.790282 -115.689559    92273          Yes  ...          No   \n",
       "1866  34.264124 -114.717964    92280          Yes  ...          No   \n",
       "1868  34.550820 -117.122396    92307          Yes  ...          No   \n",
       "\n",
       "     StreamingTV StreamingMovies Tenure        Contract  \\\n",
       "0             No              No      2  Month-to-month   \n",
       "1             No              No      2  Month-to-month   \n",
       "2            Yes             Yes      8  Month-to-month   \n",
       "5             No              No     10  Month-to-month   \n",
       "6             No             Yes      1  Month-to-month   \n",
       "...          ...             ...    ...             ...   \n",
       "1863          No              No      1  Month-to-month   \n",
       "1864         Yes              No     12        One year   \n",
       "1865          No              No      9  Month-to-month   \n",
       "1866          No              No      1  Month-to-month   \n",
       "1868          No              No      4  Month-to-month   \n",
       "\n",
       "                  PaymentMethod PaperlessBilling MonthlyCharges  TotalCharges  \\\n",
       "0                  Mailed check              Yes          53.85        108.15   \n",
       "1              Electronic check              Yes          70.70        151.65   \n",
       "2              Electronic check              Yes          99.65        820.50   \n",
       "5       Credit card (automatic)               No          55.20        528.35   \n",
       "6              Electronic check              Yes          39.65         39.65   \n",
       "...                         ...              ...            ...           ...   \n",
       "1863               Mailed check              Yes          70.65         70.65   \n",
       "1864           Electronic check              Yes          59.80        727.80   \n",
       "1865  Bank transfer (automatic)              Yes          44.20        403.35   \n",
       "1866           Electronic check              Yes          75.75         75.75   \n",
       "1868               Mailed check              Yes          74.40        306.60   \n",
       "\n",
       "     Churn  \n",
       "0      Yes  \n",
       "1      Yes  \n",
       "2      Yes  \n",
       "5      Yes  \n",
       "6      Yes  \n",
       "...    ...  \n",
       "1863   Yes  \n",
       "1864   Yes  \n",
       "1865   Yes  \n",
       "1866   Yes  \n",
       "1868   Yes  \n",
       "\n",
       "[1495 rows x 25 columns]"
      ]
     },
     "execution_count": 33,
     "metadata": {},
     "output_type": "execute_result"
    }
   ],
   "source": [
    "churn_df.query(\"TotalCharges<=2840.4100000000003\")"
   ]
  },
  {
   "cell_type": "code",
   "execution_count": 34,
   "id": "d7b35e53",
   "metadata": {},
   "outputs": [],
   "source": [
    "# Divide the data by the 80th percentile of the data from the TotalCharges variable\n",
    "total_charges_above80=churn_df.query(\"TotalCharges>2840.4100000000003\")\n",
    "total_charges_under80=churn_df.query(\"TotalCharges<=2840.4100000000003\")"
   ]
  },
  {
   "cell_type": "code",
   "execution_count": 36,
   "id": "e7603d35",
   "metadata": {},
   "outputs": [
    {
     "data": {
      "text/plain": [
       "count    1495.000000\n",
       "mean      711.265819\n",
       "std       766.848197\n",
       "min        18.850000\n",
       "25%        85.025000\n",
       "50%       371.650000\n",
       "75%      1128.225000\n",
       "max      2839.650000\n",
       "Name: TotalCharges, dtype: float64"
      ]
     },
     "execution_count": 36,
     "metadata": {},
     "output_type": "execute_result"
    }
   ],
   "source": [
    "# Show the distribution of people under the 80th percentile\n",
    "total_charges_under80.TotalCharges.describe()"
   ]
  },
  {
   "cell_type": "code",
   "execution_count": 37,
   "id": "d0bf93d7",
   "metadata": {
    "scrolled": true
   },
   "outputs": [
    {
     "data": {
      "text/plain": [
       "count     374.000000\n",
       "mean     4811.723262\n",
       "std      1436.724288\n",
       "min      2841.550000\n",
       "25%      3522.462500\n",
       "50%      4571.100000\n",
       "75%      5891.212500\n",
       "max      8684.800000\n",
       "Name: TotalCharges, dtype: float64"
      ]
     },
     "execution_count": 37,
     "metadata": {},
     "output_type": "execute_result"
    }
   ],
   "source": [
    "# Show the distribution of people above the 80th percentile\n",
    "total_charges_above80.TotalCharges.describe()"
   ]
  },
  {
   "cell_type": "markdown",
   "id": "f3f6d144",
   "metadata": {},
   "source": [
    "# Analysis of Lifetime value Part 2"
   ]
  },
  {
   "cell_type": "code",
   "execution_count": 38,
   "id": "5da2c71b",
   "metadata": {},
   "outputs": [
    {
     "data": {
      "text/plain": [
       "count    1495.000000\n",
       "mean        9.935117\n",
       "std        10.742349\n",
       "min         1.000000\n",
       "25%         1.000000\n",
       "50%         6.000000\n",
       "75%        15.000000\n",
       "max        61.000000\n",
       "Name: Tenure, dtype: float64"
      ]
     },
     "execution_count": 38,
     "metadata": {},
     "output_type": "execute_result"
    }
   ],
   "source": [
    "# Show the distribution of the tenure of people under the 80th percentile\n",
    "total_charges_under80.Tenure.describe()"
   ]
  },
  {
   "cell_type": "code",
   "execution_count": 39,
   "id": "e604f223",
   "metadata": {},
   "outputs": [
    {
     "data": {
      "text/plain": [
       "count    374.000000\n",
       "mean      50.133690\n",
       "std       12.334841\n",
       "min       27.000000\n",
       "25%       40.000000\n",
       "50%       49.500000\n",
       "75%       60.000000\n",
       "max       72.000000\n",
       "Name: Tenure, dtype: float64"
      ]
     },
     "execution_count": 39,
     "metadata": {},
     "output_type": "execute_result"
    }
   ],
   "source": [
    "# Show the distribution of the tenure of people above the 80th percentile\n",
    "total_charges_above80.Tenure.describe()"
   ]
  },
  {
   "cell_type": "markdown",
   "id": "0c01714f",
   "metadata": {},
   "source": [
    "The average LTV of the 80% of those who unsubscribed is 711, and their tenure is near 10 months. On the hand, the average LTV of the 20% of those who unsubscribed is 4811, and their tenure is near 50 months."
   ]
  },
  {
   "cell_type": "markdown",
   "id": "8347cfc8",
   "metadata": {},
   "source": [
    "## 2. What kinds of services they subscribed when they were still a customer?"
   ]
  },
  {
   "cell_type": "markdown",
   "id": "54a33a34",
   "metadata": {},
   "source": [
    "### PhoneService "
   ]
  },
  {
   "cell_type": "code",
   "execution_count": 45,
   "id": "638e5142",
   "metadata": {},
   "outputs": [
    {
     "data": {
      "text/html": [
       "<div>\n",
       "<style scoped>\n",
       "    .dataframe tbody tr th:only-of-type {\n",
       "        vertical-align: middle;\n",
       "    }\n",
       "\n",
       "    .dataframe tbody tr th {\n",
       "        vertical-align: top;\n",
       "    }\n",
       "\n",
       "    .dataframe thead th {\n",
       "        text-align: right;\n",
       "    }\n",
       "</style>\n",
       "<table border=\"1\" class=\"dataframe\">\n",
       "  <thead>\n",
       "    <tr style=\"text-align: right;\">\n",
       "      <th></th>\n",
       "      <th>PhoneService</th>\n",
       "      <th>Count(*)</th>\n",
       "    </tr>\n",
       "  </thead>\n",
       "  <tbody>\n",
       "    <tr>\n",
       "      <th>0</th>\n",
       "      <td>No</td>\n",
       "      <td>161</td>\n",
       "    </tr>\n",
       "    <tr>\n",
       "      <th>1</th>\n",
       "      <td>Yes</td>\n",
       "      <td>1334</td>\n",
       "    </tr>\n",
       "  </tbody>\n",
       "</table>\n",
       "</div>"
      ],
      "text/plain": [
       "  PhoneService  Count(*)\n",
       "0           No       161\n",
       "1          Yes      1334"
      ]
     },
     "execution_count": 45,
     "metadata": {},
     "output_type": "execute_result"
    }
   ],
   "source": [
    "#under 80\n",
    "pd.read_sql(\"Select PhoneService,Count(*) from churn_all where TotalCharges <= 2840.41 and Churn = 'Yes' group by PhoneService\",conn)"
   ]
  },
  {
   "cell_type": "code",
   "execution_count": 50,
   "id": "1ddee4ab",
   "metadata": {},
   "outputs": [
    {
     "data": {
      "text/plain": [
       "Gender\n",
       "Male      3555\n",
       "Female    3488\n",
       "Name: count, dtype: int64"
      ]
     },
     "execution_count": 50,
     "metadata": {},
     "output_type": "execute_result"
    }
   ],
   "source": [
    "df[\"Gender\"].value_counts()"
   ]
  },
  {
   "cell_type": "code",
   "execution_count": 54,
   "id": "eb05f8b5",
   "metadata": {},
   "outputs": [
    {
     "data": {
      "text/plain": [
       "PhoneService\n",
       "Yes    1334\n",
       "No      161\n",
       "Name: count, dtype: int64"
      ]
     },
     "execution_count": 54,
     "metadata": {},
     "output_type": "execute_result"
    }
   ],
   "source": [
    "total_charges_under80.PhoneService.value_counts()"
   ]
  },
  {
   "cell_type": "code",
   "execution_count": 55,
   "id": "3584dbd6",
   "metadata": {},
   "outputs": [
    {
     "data": {
      "text/plain": [
       "PhoneService\n",
       "Yes    1334\n",
       "No      161\n",
       "Name: count, dtype: int64"
      ]
     },
     "execution_count": 55,
     "metadata": {},
     "output_type": "execute_result"
    }
   ],
   "source": [
    "total_charges_under80[\"PhoneService\"].value_counts()"
   ]
  },
  {
   "cell_type": "code",
   "execution_count": 56,
   "id": "77df6e96",
   "metadata": {},
   "outputs": [
    {
     "data": {
      "text/plain": [
       "(7043, 25)"
      ]
     },
     "execution_count": 56,
     "metadata": {},
     "output_type": "execute_result"
    }
   ],
   "source": [
    "# Example of shape\n",
    "df.shape"
   ]
  },
  {
   "cell_type": "code",
   "execution_count": 61,
   "id": "047634c7",
   "metadata": {},
   "outputs": [
    {
     "data": {
      "text/plain": [
       "PhoneService\n",
       "Yes    0.892308\n",
       "No     0.107692\n",
       "Name: count, dtype: float64"
      ]
     },
     "execution_count": 61,
     "metadata": {},
     "output_type": "execute_result"
    }
   ],
   "source": [
    "# Under 80 (percentage)\n",
    "total_charges_under80.PhoneService.value_counts() / total_charges_under80.shape[0]"
   ]
  },
  {
   "cell_type": "code",
   "execution_count": 62,
   "id": "76413890",
   "metadata": {},
   "outputs": [
    {
     "data": {
      "text/plain": [
       "PhoneService\n",
       "Yes    0.975936\n",
       "No     0.024064\n",
       "Name: count, dtype: float64"
      ]
     },
     "execution_count": 62,
     "metadata": {},
     "output_type": "execute_result"
    }
   ],
   "source": [
    "# Above 80 (percentage)\n",
    "total_charges_above80.PhoneService.value_counts() / total_charges_above80.shape[0]"
   ]
  },
  {
   "cell_type": "markdown",
   "id": "c866d7d9",
   "metadata": {},
   "source": [
    "For the top 20% (high LTV) only 2% of them didn't use the phone service. On the other hand, lower 80% (LTV) had around 11% of the people that didn't use the phone service. That is around 5 times more as the top 20%. Apparently if you are not subscribed to the phone service you are more likely to be in the bottom 80% of the LTV. We as a company can try to sell this service to more people."
   ]
  },
  {
   "cell_type": "markdown",
   "id": "6f300dd5",
   "metadata": {},
   "source": [
    "### MutipleLines"
   ]
  },
  {
   "cell_type": "code",
   "execution_count": 63,
   "id": "8bc20d94",
   "metadata": {},
   "outputs": [
    {
     "data": {
      "text/plain": [
       "MultipleLines\n",
       "No     0.590705\n",
       "Yes    0.409295\n",
       "Name: count, dtype: float64"
      ]
     },
     "execution_count": 63,
     "metadata": {},
     "output_type": "execute_result"
    }
   ],
   "source": [
    "total_charges_under80_use_phone = total_charges_under80.query(\"PhoneService == 'Yes'\")\n",
    "\n",
    "total_charges_under80_use_phone.MultipleLines.value_counts() / total_charges_under80_use_phone.shape[0]"
   ]
  },
  {
   "cell_type": "code",
   "execution_count": 64,
   "id": "34d59a98",
   "metadata": {},
   "outputs": [
    {
     "data": {
      "text/plain": [
       "MultipleLines\n",
       "Yes    0.832877\n",
       "No     0.167123\n",
       "Name: count, dtype: float64"
      ]
     },
     "execution_count": 64,
     "metadata": {},
     "output_type": "execute_result"
    }
   ],
   "source": [
    "total_charges_above80_use_phone = total_charges_above80.query(\"PhoneService == 'Yes'\")\n",
    "\n",
    "total_charges_above80_use_phone.MultipleLines.value_counts() / total_charges_above80_use_phone.shape[0]"
   ]
  },
  {
   "cell_type": "markdown",
   "id": "030336ba",
   "metadata": {},
   "source": [
    "For the top 20% of LTV who used the phone service 84% of them used multiple lines, which is 2 times as much as the proportion of people in the low 80% LTV that is around 40%. Having multiple lines is going to get you closer to be in the top 20% of the LTV."
   ]
  },
  {
   "cell_type": "markdown",
   "id": "d694f431",
   "metadata": {},
   "source": [
    "### InternetService"
   ]
  },
  {
   "cell_type": "code",
   "execution_count": 66,
   "id": "b43c9f75",
   "metadata": {},
   "outputs": [
    {
     "data": {
      "text/plain": [
       "InternetService\n",
       "Fiber optic    0.640803\n",
       "DSL            0.283612\n",
       "No             0.075585\n",
       "Name: count, dtype: float64"
      ]
     },
     "execution_count": 66,
     "metadata": {},
     "output_type": "execute_result"
    }
   ],
   "source": [
    "# Under 80 (percentage)\n",
    "total_charges_under80.InternetService.value_counts() / total_charges_under80.shape[0]"
   ]
  },
  {
   "cell_type": "code",
   "execution_count": 67,
   "id": "01fd24a3",
   "metadata": {},
   "outputs": [
    {
     "data": {
      "text/plain": [
       "InternetService\n",
       "Fiber optic    0.906417\n",
       "DSL            0.093583\n",
       "Name: count, dtype: float64"
      ]
     },
     "execution_count": 67,
     "metadata": {},
     "output_type": "execute_result"
    }
   ],
   "source": [
    "# Above 80 (percentage)\n",
    "total_charges_above80.InternetService.value_counts() / total_charges_above80.shape[0]"
   ]
  },
  {
   "cell_type": "markdown",
   "id": "4582dc91",
   "metadata": {},
   "source": [
    "All the people in the high 20% LTV used internet service. On the other hand 8% of the people in the low 80th percentile of the LTV did not have internet connection. Also, in the top 20% (high LTV) 90% of them had fiber optic, in comparison to only 64% in the low LTV. So as a company if we want to increase the LTV of customers, we should recommend using internet and Fiber Optic connection."
   ]
  },
  {
   "cell_type": "markdown",
   "id": "5eb8dbc4",
   "metadata": {},
   "source": [
    "### Other services"
   ]
  },
  {
   "cell_type": "code",
   "execution_count": 69,
   "id": "56ae055a",
   "metadata": {},
   "outputs": [],
   "source": [
    "import numpy as np"
   ]
  },
  {
   "cell_type": "code",
   "execution_count": 70,
   "id": "60f98c4a",
   "metadata": {},
   "outputs": [],
   "source": [
    "total_charges_under80_use_internet = total_charges_under80.query('InternetService!=\"No\"')\n",
    "proportion_internet_sub_service_under80 = np.array([total_charges_under80_use_internet.query('OnlineSecurity==\"Yes\"').shape[0]/total_charges_under80_use_internet.shape[0],\n",
    "total_charges_under80_use_internet.query('TechSupport==\"Yes\"').shape[0]/total_charges_under80_use_internet.shape[0],\n",
    "total_charges_under80_use_internet.query('OnlineBackup==\"Yes\"').shape[0]/total_charges_under80_use_internet.shape[0],\n",
    "total_charges_under80_use_internet.query('DeviceProtection==\"Yes\"').shape[0]/total_charges_under80_use_internet.shape[0],\n",
    "total_charges_under80_use_internet.query('StreamingTV==\"Yes\"').shape[0]/total_charges_under80_use_internet.shape[0],\n",
    "total_charges_under80_use_internet.query('StreamingMovies==\"Yes\"').shape[0]/total_charges_under80_use_internet.shape[0]])"
   ]
  },
  {
   "cell_type": "code",
   "execution_count": 71,
   "id": "4c99faee",
   "metadata": {},
   "outputs": [
    {
     "data": {
      "text/plain": [
       "array([0.1316932 , 0.13603473, 0.22720695, 0.23516643, 0.37698987,\n",
       "       0.3813314 ])"
      ]
     },
     "execution_count": 71,
     "metadata": {},
     "output_type": "execute_result"
    }
   ],
   "source": [
    "proportion_internet_sub_service_under80"
   ]
  },
  {
   "cell_type": "code",
   "execution_count": 76,
   "id": "fe8a75fa",
   "metadata": {},
   "outputs": [],
   "source": [
    "total_charges_above80_use_internet = total_charges_above80.query('InternetService!=\"No\"')\n",
    "proportion_internet_sub_service_above80 = np.array([total_charges_above80_use_internet.query('OnlineSecurity==\"Yes\"').shape[0]/total_charges_above80_use_internet.shape[0],\n",
    "total_charges_above80_use_internet.query('TechSupport==\"Yes\"').shape[0]/total_charges_above80_use_internet.shape[0],\n",
    "total_charges_above80_use_internet.query('OnlineBackup==\"Yes\"').shape[0]/total_charges_above80_use_internet.shape[0],\n",
    "total_charges_above80_use_internet.query('DeviceProtection==\"Yes\"').shape[0]/total_charges_above80_use_internet.shape[0],\n",
    "total_charges_above80_use_internet.query('StreamingTV==\"Yes\"').shape[0]/total_charges_above80_use_internet.shape[0],\n",
    "total_charges_above80_use_internet.query('StreamingMovies==\"Yes\"').shape[0]/total_charges_above80_use_internet.shape[0]])"
   ]
  },
  {
   "cell_type": "code",
   "execution_count": 73,
   "id": "43bc1bbb",
   "metadata": {},
   "outputs": [
    {
     "data": {
      "text/plain": [
       "array([0.30213904, 0.32620321, 0.55882353, 0.58823529, 0.78342246,\n",
       "       0.77807487])"
      ]
     },
     "execution_count": 73,
     "metadata": {},
     "output_type": "execute_result"
    }
   ],
   "source": [
    "proportion_internet_sub_service_above80"
   ]
  },
  {
   "cell_type": "markdown",
   "id": "400e8f4c",
   "metadata": {},
   "source": [
    "In the top 20% LTV, both streaming movies and streaming tv percentages are around 80%, in comparison in the low 80% LTV they are around 40%. Device protection and online backup for the top 20% LTV are around 55%, in comparison to only around 22% in the low LTV. As a company we would like to sell to customers streaming TV and movies and also online backup and device protection if we want to increase LTV."
   ]
  },
  {
   "cell_type": "markdown",
   "id": "7789e5c5",
   "metadata": {},
   "source": [
    "## 3. For those who churned what is the proportion of each kind of contract?"
   ]
  },
  {
   "cell_type": "code",
   "execution_count": 77,
   "id": "5581acb0",
   "metadata": {},
   "outputs": [
    {
     "data": {
      "text/plain": [
       "Contract\n",
       "Month-to-month    0.959197\n",
       "One year          0.036789\n",
       "Two year          0.004013\n",
       "Name: count, dtype: float64"
      ]
     },
     "execution_count": 77,
     "metadata": {},
     "output_type": "execute_result"
    }
   ],
   "source": [
    "# Under 80 (percentage)\n",
    "total_charges_under80.Contract.value_counts() / total_charges_under80.shape[0]"
   ]
  },
  {
   "cell_type": "code",
   "execution_count": 78,
   "id": "ef5bb6fc",
   "metadata": {},
   "outputs": [
    {
     "data": {
      "text/plain": [
       "Contract\n",
       "Month-to-month    0.590909\n",
       "One year          0.296791\n",
       "Two year          0.112299\n",
       "Name: count, dtype: float64"
      ]
     },
     "execution_count": 78,
     "metadata": {},
     "output_type": "execute_result"
    }
   ],
   "source": [
    "# Above 80 (percentage)\n",
    "total_charges_above80.Contract.value_counts() / total_charges_above80.shape[0]"
   ]
  },
  {
   "cell_type": "markdown",
   "id": "87ab1052",
   "metadata": {},
   "source": [
    "## 4. For those who did not churn what is the proportion of each kind of contract?"
   ]
  },
  {
   "cell_type": "code",
   "execution_count": 79,
   "id": "5079c5d2",
   "metadata": {},
   "outputs": [],
   "source": [
    "## Extract those who unsubscribed the services (Churn = Yes)\n",
    "\n",
    "paying_df = pd.read_sql(\"select * from churn_all where Churn = 'No'\", conn)"
   ]
  },
  {
   "cell_type": "code",
   "execution_count": 80,
   "id": "e95260e3",
   "metadata": {
    "scrolled": true
   },
   "outputs": [
    {
     "data": {
      "text/plain": [
       "count     5174\n",
       "unique    4966\n",
       "top           \n",
       "freq        11\n",
       "Name: TotalCharges, dtype: object"
      ]
     },
     "execution_count": 80,
     "metadata": {},
     "output_type": "execute_result"
    }
   ],
   "source": [
    "paying_df.TotalCharges.describe()"
   ]
  },
  {
   "cell_type": "code",
   "execution_count": 82,
   "id": "e65050fa",
   "metadata": {},
   "outputs": [],
   "source": [
    "paying_df[\"TotalCharges\"]=pd.to_numeric(paying_df.TotalCharges,errors='coerce')"
   ]
  },
  {
   "cell_type": "code",
   "execution_count": 83,
   "id": "24c3e032",
   "metadata": {},
   "outputs": [
    {
     "data": {
      "text/plain": [
       "count    5163.000000\n",
       "mean     2555.344141\n",
       "std      2329.456984\n",
       "min        18.800000\n",
       "25%       577.825000\n",
       "50%      1683.600000\n",
       "75%      4264.125000\n",
       "max      8672.450000\n",
       "Name: TotalCharges, dtype: float64"
      ]
     },
     "execution_count": 83,
     "metadata": {},
     "output_type": "execute_result"
    }
   ],
   "source": [
    "paying_df.TotalCharges.describe()"
   ]
  },
  {
   "cell_type": "code",
   "execution_count": 84,
   "id": "5381cc9e",
   "metadata": {},
   "outputs": [
    {
     "data": {
      "text/plain": [
       "4895.85"
      ]
     },
     "execution_count": 84,
     "metadata": {},
     "output_type": "execute_result"
    }
   ],
   "source": [
    "# Find the 80th percentile of the data in TotalCharges\n",
    "paying_df.TotalCharges.quantile(0.8)"
   ]
  },
  {
   "cell_type": "code",
   "execution_count": 85,
   "id": "db6f013e",
   "metadata": {},
   "outputs": [],
   "source": [
    "# Divide the data by the 80th percentile of the data from the TotalCharges variable\n",
    "paying_total_charges_under80 = paying_df.query(\"TotalCharges <= 4895.8\")\n",
    "paying_total_charges_above80 = paying_df.query(\"TotalCharges > 4895.8\")"
   ]
  },
  {
   "cell_type": "code",
   "execution_count": 86,
   "id": "79989a04",
   "metadata": {},
   "outputs": [
    {
     "data": {
      "text/plain": [
       "Contract\n",
       "Month-to-month    0.500726\n",
       "Two year          0.253269\n",
       "One year          0.246005\n",
       "Name: count, dtype: float64"
      ]
     },
     "execution_count": 86,
     "metadata": {},
     "output_type": "execute_result"
    }
   ],
   "source": [
    "# Under 80 (percentage)\n",
    "paying_total_charges_under80.Contract.value_counts() / paying_total_charges_under80.shape[0]"
   ]
  },
  {
   "cell_type": "code",
   "execution_count": 87,
   "id": "204333c4",
   "metadata": {},
   "outputs": [
    {
     "data": {
      "text/plain": [
       "Contract\n",
       "Two year          0.572120\n",
       "One year          0.280736\n",
       "Month-to-month    0.147144\n",
       "Name: count, dtype: float64"
      ]
     },
     "execution_count": 87,
     "metadata": {},
     "output_type": "execute_result"
    }
   ],
   "source": [
    "# Above 80 (percentage)\n",
    "paying_total_charges_above80.Contract.value_counts() / paying_total_charges_above80.shape[0]"
   ]
  },
  {
   "cell_type": "markdown",
   "id": "ee86edd8",
   "metadata": {},
   "source": [
    "- If we want to stop Churning we would like to sell contracts to people for at least one year, and much better for 2 years (Conjecture).\n",
    "- We have 57% of the people that stayed in the company in the top 20% LTV with 2 year contracts, and only 11% of the people in the top 20% had a 2 year contract and left the company.\n",
    "- 95% of the people that left the company and are in the low 80% have a month-to-month contract, in contrast to only 50% of the people in the low 80% that stayed in the company. We can say that having a month-to-month contract is one of the reasons that people are leaving the company (conjecture)."
   ]
  },
  {
   "cell_type": "code",
   "execution_count": null,
   "id": "67d9598a",
   "metadata": {},
   "outputs": [],
   "source": []
  }
 ],
 "metadata": {
  "kernelspec": {
   "display_name": "Python 3 (ipykernel)",
   "language": "python",
   "name": "python3"
  },
  "language_info": {
   "codemirror_mode": {
    "name": "ipython",
    "version": 3
   },
   "file_extension": ".py",
   "mimetype": "text/x-python",
   "name": "python",
   "nbconvert_exporter": "python",
   "pygments_lexer": "ipython3",
   "version": "3.11.2"
  }
 },
 "nbformat": 4,
 "nbformat_minor": 5
}
