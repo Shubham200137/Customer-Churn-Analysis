{
 "cells": [
  {
   "cell_type": "markdown",
   "id": "a6a0cde6",
   "metadata": {},
   "source": [
    "# Introduction to SQLite and its usage with Python"
   ]
  },
  {
   "cell_type": "code",
   "execution_count": 2,
   "id": "c96486b1",
   "metadata": {},
   "outputs": [],
   "source": [
    "import sqlite3"
   ]
  },
  {
   "cell_type": "markdown",
   "id": "49d07508",
   "metadata": {},
   "source": [
    "## Create a connection,a table and add data"
   ]
  },
  {
   "cell_type": "code",
   "execution_count": 3,
   "id": "dfd764e8",
   "metadata": {},
   "outputs": [],
   "source": [
    "conn = sqlite3.connect(\"example2.db\")"
   ]
  },
  {
   "cell_type": "code",
   "execution_count": 5,
   "id": "fed75c29",
   "metadata": {},
   "outputs": [],
   "source": [
    "cur=conn.cursor()"
   ]
  },
  {
   "cell_type": "code",
   "execution_count": 7,
   "id": "1a04b3ae",
   "metadata": {},
   "outputs": [
    {
     "data": {
      "text/plain": [
       "<sqlite3.Cursor at 0x2b027c5fb40>"
      ]
     },
     "execution_count": 7,
     "metadata": {},
     "output_type": "execute_result"
    }
   ],
   "source": [
    "cur.execute(\"Create Table customer (Name Text,Income Real)\")"
   ]
  },
  {
   "cell_type": "code",
   "execution_count": 8,
   "id": "2f1eef10",
   "metadata": {},
   "outputs": [
    {
     "data": {
      "text/plain": [
       "<sqlite3.Cursor at 0x2b027c5fb40>"
      ]
     },
     "execution_count": 8,
     "metadata": {},
     "output_type": "execute_result"
    }
   ],
   "source": [
    "cur.execute(\"Insert into customer values('Mark','5000')\")"
   ]
  },
  {
   "cell_type": "code",
   "execution_count": 9,
   "id": "db693f8b",
   "metadata": {},
   "outputs": [],
   "source": [
    "conn.commit()"
   ]
  },
  {
   "cell_type": "markdown",
   "id": "0ad0e49d",
   "metadata": {},
   "source": [
    "## Connect to an existing database "
   ]
  },
  {
   "cell_type": "code",
   "execution_count": 11,
   "id": "f02a6f8d",
   "metadata": {},
   "outputs": [],
   "source": [
    "conn=sqlite3.connect(\"example2.db\")\n",
    "cur=conn.cursor()"
   ]
  },
  {
   "cell_type": "code",
   "execution_count": 13,
   "id": "c5f3608a",
   "metadata": {},
   "outputs": [
    {
     "data": {
      "text/plain": [
       "<sqlite3.Cursor at 0x2b0278a6ac0>"
      ]
     },
     "execution_count": 13,
     "metadata": {},
     "output_type": "execute_result"
    }
   ],
   "source": [
    "cur.execute(\"Select * from customer\")"
   ]
  },
  {
   "cell_type": "code",
   "execution_count": 14,
   "id": "92d0799c",
   "metadata": {},
   "outputs": [
    {
     "data": {
      "text/plain": [
       "('Mark', 5000.0)"
      ]
     },
     "execution_count": 14,
     "metadata": {},
     "output_type": "execute_result"
    }
   ],
   "source": [
    "cur.fetchone()"
   ]
  },
  {
   "cell_type": "code",
   "execution_count": 15,
   "id": "b3bec5c0",
   "metadata": {},
   "outputs": [
    {
     "name": "stdout",
     "output_type": "stream",
     "text": [
      "('Mark', 5000.0)\n"
     ]
    }
   ],
   "source": [
    "for row in cur.execute(\"Select * from customer\"):\n",
    "    print(row)"
   ]
  },
  {
   "cell_type": "markdown",
   "id": "1b3c9dd0",
   "metadata": {},
   "source": [
    "## Add several Rows "
   ]
  },
  {
   "cell_type": "code",
   "execution_count": 16,
   "id": "ae44900e",
   "metadata": {},
   "outputs": [],
   "source": [
    "customer_list=[('John',4000),('Ram',6500)]"
   ]
  },
  {
   "cell_type": "code",
   "execution_count": 17,
   "id": "fd78f819",
   "metadata": {},
   "outputs": [
    {
     "data": {
      "text/plain": [
       "<sqlite3.Cursor at 0x2b0278a6ac0>"
      ]
     },
     "execution_count": 17,
     "metadata": {},
     "output_type": "execute_result"
    }
   ],
   "source": [
    "cur.executemany(\"Insert into customer Values (?,?)\",customer_list)"
   ]
  },
  {
   "cell_type": "code",
   "execution_count": 18,
   "id": "f5207ce9",
   "metadata": {},
   "outputs": [
    {
     "name": "stdout",
     "output_type": "stream",
     "text": [
      "('Mark', 5000.0)\n",
      "('John', 4000.0)\n",
      "('Ram', 6500.0)\n"
     ]
    }
   ],
   "source": [
    "for row in cur.execute(\"Select * from customer\"):\n",
    "    print(row)"
   ]
  },
  {
   "cell_type": "code",
   "execution_count": 19,
   "id": "47bb4228",
   "metadata": {},
   "outputs": [],
   "source": [
    "conn.commit()"
   ]
  },
  {
   "cell_type": "code",
   "execution_count": 20,
   "id": "6655126c",
   "metadata": {},
   "outputs": [],
   "source": [
    "conn.close()"
   ]
  },
  {
   "cell_type": "markdown",
   "id": "6cdebc4d",
   "metadata": {},
   "source": [
    "## Run queries"
   ]
  },
  {
   "cell_type": "code",
   "execution_count": 25,
   "id": "83c7fb81",
   "metadata": {},
   "outputs": [],
   "source": [
    "conn=sqlite3.connect(\"example2.db\")\n",
    "cur=conn.cursor()"
   ]
  },
  {
   "cell_type": "code",
   "execution_count": 27,
   "id": "beb396bb",
   "metadata": {},
   "outputs": [
    {
     "data": {
      "text/plain": [
       "[('Ram', 6500.0)]"
      ]
     },
     "execution_count": 27,
     "metadata": {},
     "output_type": "execute_result"
    }
   ],
   "source": [
    "cur.execute(\"Select * from customer where Name='Ram'\")\n",
    "cur.fetchall()"
   ]
  },
  {
   "cell_type": "code",
   "execution_count": 28,
   "id": "02b6aab8",
   "metadata": {},
   "outputs": [
    {
     "data": {
      "text/plain": [
       "[]"
      ]
     },
     "execution_count": 28,
     "metadata": {},
     "output_type": "execute_result"
    }
   ],
   "source": [
    "cur.execute(\"Select * from customer where Name='Raju'\")\n",
    "cur.fetchall()"
   ]
  },
  {
   "cell_type": "code",
   "execution_count": 30,
   "id": "637a7b39",
   "metadata": {},
   "outputs": [
    {
     "data": {
      "text/plain": [
       "[('Ram', 6500.0), ('Mark', 5000.0), ('John', 4000.0)]"
      ]
     },
     "execution_count": 30,
     "metadata": {},
     "output_type": "execute_result"
    }
   ],
   "source": [
    "cur.execute(\"Select * from customer ORDER BY Name desc\")\n",
    "cur.fetchall()"
   ]
  },
  {
   "cell_type": "code",
   "execution_count": 31,
   "id": "9ab92c16",
   "metadata": {},
   "outputs": [
    {
     "data": {
      "text/plain": [
       "[(15500.0,)]"
      ]
     },
     "execution_count": 31,
     "metadata": {},
     "output_type": "execute_result"
    }
   ],
   "source": [
    "cur.execute(\"Select SUM(Income) from customer\")\n",
    "cur.fetchall()"
   ]
  },
  {
   "cell_type": "code",
   "execution_count": 32,
   "id": "ed2392f7",
   "metadata": {},
   "outputs": [],
   "source": [
    "conn.close()"
   ]
  },
  {
   "cell_type": "code",
   "execution_count": null,
   "id": "468f294a",
   "metadata": {},
   "outputs": [],
   "source": []
  }
 ],
 "metadata": {
  "kernelspec": {
   "display_name": "Python 3 (ipykernel)",
   "language": "python",
   "name": "python3"
  },
  "language_info": {
   "codemirror_mode": {
    "name": "ipython",
    "version": 3
   },
   "file_extension": ".py",
   "mimetype": "text/x-python",
   "name": "python",
   "nbconvert_exporter": "python",
   "pygments_lexer": "ipython3",
   "version": "3.11.2"
  }
 },
 "nbformat": 4,
 "nbformat_minor": 5
}
